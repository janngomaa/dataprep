{
 "cells": [
  {
   "cell_type": "code",
   "execution_count": 4,
   "metadata": {},
   "outputs": [
    {
     "name": "stdout",
     "output_type": "stream",
     "text": [
      "http://www.watchcount.com/?cc=US\n"
     ]
    }
   ],
   "source": [
    "import configparser, logging\n",
    "#import urllib3,re, random, logging, mysql.connector, csv, configparser\n",
    "#from bs4 import BeautifulSoup as bs\n",
    "#from datetime import date, datetime, timedelta\n",
    "\n",
    "class MainProcessor:\n",
    "    \"\"\"Extract and process Data from wc\"\"\"\n",
    "    \n",
    "    def __init__(self):\n",
    "        self.config = configparser.ConfigParser()\n",
    "        self.config.read('config.ini')\n",
    "        \n",
    "processor = MainProcessor()\n",
    "print(processor.config.get('crawling', 'wc_url'))"
   ]
  },
  {
   "cell_type": "code",
   "execution_count": null,
   "metadata": {},
   "outputs": [],
   "source": [
    "import os\n",
    "\n",
    "print(os.getcwd())"
   ]
  }
 ],
 "metadata": {
  "kernelspec": {
   "display_name": "Python 3",
   "language": "python",
   "name": "python3"
  },
  "language_info": {
   "codemirror_mode": {
    "name": "ipython",
    "version": 3
   },
   "file_extension": ".py",
   "mimetype": "text/x-python",
   "name": "python",
   "nbconvert_exporter": "python",
   "pygments_lexer": "ipython3",
   "version": "3.6.3"
  }
 },
 "nbformat": 4,
 "nbformat_minor": 2
}
