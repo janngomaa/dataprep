{
 "cells": [
  {
   "cell_type": "code",
   "execution_count": 12,
   "metadata": {},
   "outputs": [
    {
     "name": "stdout",
     "output_type": "stream",
     "text": [
      "upwork.com,  b'gAAAAABa1UTkFM0klTQOym_D6wsZM13jXiGsq2ViynoDTXDJtptaVINFNzimV_VCGMiPGUMdEMB1T4gtKdJVBIGtSwff0ygsTg=='\n",
      "b'upwork.com'\n"
     ]
    }
   ],
   "source": [
    "from cryptography.fernet import Fernet\n",
    "\n",
    "'''\n",
    "testing encryption/decription\n",
    "\n",
    "''' \n",
    "#Defining generating a secret key\n",
    "key = Fernet.generate_key()\n",
    "f = Fernet(key)\n",
    "#Encrypting\n",
    "encrypted = f.encrypt(b\"upwork.com\")\n",
    "#Decripting\n",
    "decrypted = f.decrypt(encrypted)\n",
    "\n",
    "\n",
    "#In use\n",
    "upwmKey = b'BTcjnu5BY4YjcEv--QxGBO_EAR1QRS16vlBz6KdrJSc='\n",
    "\n",
    "print('upwork.com, ', Fernet(upwmKey).encrypt(b\"upwork.com\"))\n",
    "\n",
    "upwm_domain = Fernet(upwmKey).decrypt(b'gAAAAABa1UJA8Y7ttvD92reNs4oXdazSYSuC8RLxgFC3txjpi-'\\\n",
    "                                           b'IIok0X8uzMRK_Fj-B7HWsmYYWh7M1UPycWeMQnPzWz_oW2GQ==')\n",
    "    \n",
    "upwm_url = Fernet(upwmKey)\\\n",
    "    .decrypt(b'gAAAAABasa0ROZgnQGxyzS9Ddqv9TuiXZm0xPl-J1TZ7H4fqkIScoTZ'\\\n",
    "             b'hRzBt57mKqvAp_KK5OqKAjdeWWXBvLJg6B9lBFf5BmHKqeotwh_kg1r'\\\n",
    "             b'YWtjRsPggR-tvGPfbTGl2Bi5wriB-P')\n",
    "\n",
    "print(decrypted_domain)"
   ]
  },
  {
   "cell_type": "code",
   "execution_count": null,
   "metadata": {},
   "outputs": [],
   "source": []
  }
 ],
 "metadata": {
  "kernelspec": {
   "display_name": "Python 3",
   "language": "python",
   "name": "python3"
  },
  "language_info": {
   "codemirror_mode": {
    "name": "ipython",
    "version": 3
   },
   "file_extension": ".py",
   "mimetype": "text/x-python",
   "name": "python",
   "nbconvert_exporter": "python",
   "pygments_lexer": "ipython3",
   "version": "3.6.3"
  }
 },
 "nbformat": 4,
 "nbformat_minor": 2
}
