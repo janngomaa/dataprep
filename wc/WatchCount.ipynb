{
 "cells": [
  {
   "cell_type": "code",
   "execution_count": 21,
   "metadata": {},
   "outputs": [
    {
     "name": "stdout",
     "output_type": "stream",
     "text": [
      "http://www.watchcount.com/?cc=US\n"
     ]
    }
   ],
   "source": [
    "import configparser, logging, datetime\n",
    "#import urllib3,re, random, logging, mysql.connector, csv, configparser\n",
    "#from bs4 import BeautifulSoup as bs\n",
    "#from datetime import date, datetime, timedelta\n",
    "\n",
    "class MainProcessor:\n",
    "    \"\"\"Extract and process Data from wc\"\"\"\n",
    "    \n",
    "    def __init__(self):\n",
    "        self.config = configparser.ConfigParser()\n",
    "        self.config.read('config.ini')\n",
    "        self.logger = logging.getLogger('WcLogger')\n",
    "        hdlr = logging.FileHandler(self.config.get('crawling', 'wc_wd') + 'wc__{: %Y%m%d}'.format(datetime.datetime.now()) + '.log')\n",
    "        hdlr.setFormatter(logging.Formatter('%(asctime)s -- %(funcName)s -- %(levelname)s -- %(message)s'))\n",
    "        self.logger.addHandler(hdlr) \n",
    "        self.logger.setLevel(logging.INFO)\n",
    "        \n",
    "        self.logger.info('*** Initiating WC App !')\n",
    "        self.logger.info('*** Crawling url : '+ self.config.get('crawling', 'wc_url'))\n",
    "        \n",
    "processor = MainProcessor()\n",
    "print(processor.config.get('crawling', 'wc_url'))"
   ]
  },
  {
   "cell_type": "code",
   "execution_count": null,
   "metadata": {},
   "outputs": [],
   "source": []
  }
 ],
 "metadata": {
  "kernelspec": {
   "display_name": "Python 3",
   "language": "python",
   "name": "python3"
  },
  "language_info": {
   "codemirror_mode": {
    "name": "ipython",
    "version": 3
   },
   "file_extension": ".py",
   "mimetype": "text/x-python",
   "name": "python",
   "nbconvert_exporter": "python",
   "pygments_lexer": "ipython3",
   "version": "3.6.3"
  }
 },
 "nbformat": 4,
 "nbformat_minor": 2
}
